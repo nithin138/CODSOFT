{
 "cells": [
  {
   "cell_type": "code",
   "execution_count": 6,
   "id": "2b55b6f3",
   "metadata": {
    "_cell_guid": "b1076dfc-b9ad-4769-8c92-a6c4dae69d19",
    "_uuid": "8f2839f25d086af736a60e9eeb907d3b93b6e0e5",
    "execution": {
     "iopub.execute_input": "2023-08-02T07:27:01.115211Z",
     "iopub.status.busy": "2023-08-02T07:27:01.114677Z",
     "iopub.status.idle": "2023-08-02T07:27:01.137873Z",
     "shell.execute_reply": "2023-08-02T07:27:01.136674Z"
    },
    "papermill": {
     "duration": 0.040828,
     "end_time": "2023-08-02T07:27:01.140572",
     "exception": false,
     "start_time": "2023-08-02T07:27:01.099744",
     "status": "completed"
    },
    "tags": []
   },
   "outputs": [],
   "source": [
    "# This Python 3 environment comes with many helpful analytics libraries installed\n",
    "# It is defined by the kaggle/python Docker image: https://github.com/kaggle/docker-python\n",
    "# For example, here's several helpful packages to load\n",
    "\n",
    "import numpy as np # linear algebra\n",
    "import pandas as pd # data processing, CSV file I/O (e.g. pd.read_csv)\n",
    "\n",
    "# Input data files are available in the read-only \"../input/\" directory\n",
    "# For example, running this (by clicking run or pressing Shift+Enter) will list all files under the input directory\n",
    "\n",
    "import os\n",
    "for dirname, _, filenames in os.walk('/kaggle/input'):\n",
    "    for filename in filenames:\n",
    "        print(os.path.join(dirname, filename))\n",
    "\n",
    "# You can write up to 20GB to the current directory (/kaggle/working/) that gets preserved as output when you create a version using \"Save & Run All\" \n",
    "# You can also write temporary files to /kaggle/temp/, but they won't be saved outside of the current session"
   ]
  },
  {
   "cell_type": "code",
   "execution_count": 7,
   "id": "9b0910b5",
   "metadata": {
    "execution": {
     "iopub.execute_input": "2023-08-02T07:27:01.168097Z",
     "iopub.status.busy": "2023-08-02T07:27:01.167698Z",
     "iopub.status.idle": "2023-08-02T07:27:02.716354Z",
     "shell.execute_reply": "2023-08-02T07:27:02.715027Z"
    },
    "papermill": {
     "duration": 1.565993,
     "end_time": "2023-08-02T07:27:02.719487",
     "exception": false,
     "start_time": "2023-08-02T07:27:01.153494",
     "status": "completed"
    },
    "tags": []
   },
   "outputs": [],
   "source": [
    "import numpy as np\n",
    "import pandas as pd\n",
    "from sklearn.model_selection import train_test_split\n",
    "from sklearn.linear_model import LogisticRegression\n",
    "from sklearn.metrics import accuracy_score"
   ]
  },
  {
   "cell_type": "code",
   "execution_count": 8,
   "id": "ba752261",
   "metadata": {
    "execution": {
     "iopub.execute_input": "2023-08-02T07:27:02.749250Z",
     "iopub.status.busy": "2023-08-02T07:27:02.748074Z",
     "iopub.status.idle": "2023-08-02T07:27:07.733057Z",
     "shell.execute_reply": "2023-08-02T07:27:07.731973Z"
    },
    "papermill": {
     "duration": 5.003842,
     "end_time": "2023-08-02T07:27:07.735962",
     "exception": false,
     "start_time": "2023-08-02T07:27:02.732120",
     "status": "completed"
    },
    "tags": []
   },
   "outputs": [],
   "source": [
    "df = pd.read_csv(\"credit card.csv\")"
   ]
  },
  {
   "cell_type": "code",
   "execution_count": 9,
   "id": "8d735e0f",
   "metadata": {
    "execution": {
     "iopub.execute_input": "2023-08-02T07:27:07.763688Z",
     "iopub.status.busy": "2023-08-02T07:27:07.763249Z",
     "iopub.status.idle": "2023-08-02T07:27:07.806278Z",
     "shell.execute_reply": "2023-08-02T07:27:07.805002Z"
    },
    "papermill": {
     "duration": 0.060129,
     "end_time": "2023-08-02T07:27:07.808767",
     "exception": false,
     "start_time": "2023-08-02T07:27:07.748638",
     "status": "completed"
    },
    "tags": []
   },
   "outputs": [
    {
     "data": {
      "text/html": [
       "<div>\n",
       "<style scoped>\n",
       "    .dataframe tbody tr th:only-of-type {\n",
       "        vertical-align: middle;\n",
       "    }\n",
       "\n",
       "    .dataframe tbody tr th {\n",
       "        vertical-align: top;\n",
       "    }\n",
       "\n",
       "    .dataframe thead th {\n",
       "        text-align: right;\n",
       "    }\n",
       "</style>\n",
       "<table border=\"1\" class=\"dataframe\">\n",
       "  <thead>\n",
       "    <tr style=\"text-align: right;\">\n",
       "      <th></th>\n",
       "      <th>Unnamed: 0</th>\n",
       "      <th>Customer_ID</th>\n",
       "      <th>A_1</th>\n",
       "      <th>A_2</th>\n",
       "      <th>A_3</th>\n",
       "      <th>A_4</th>\n",
       "      <th>A_5</th>\n",
       "      <th>A_6</th>\n",
       "      <th>A_7</th>\n",
       "      <th>A_8</th>\n",
       "      <th>A_9</th>\n",
       "      <th>A_10</th>\n",
       "      <th>A_11</th>\n",
       "      <th>A_12</th>\n",
       "      <th>A_13</th>\n",
       "      <th>A_14</th>\n",
       "      <th>class</th>\n",
       "    </tr>\n",
       "  </thead>\n",
       "  <tbody>\n",
       "    <tr>\n",
       "      <th>0</th>\n",
       "      <td>0</td>\n",
       "      <td>15776156</td>\n",
       "      <td>1</td>\n",
       "      <td>22.08</td>\n",
       "      <td>11.46</td>\n",
       "      <td>2</td>\n",
       "      <td>4</td>\n",
       "      <td>4</td>\n",
       "      <td>1.585</td>\n",
       "      <td>0</td>\n",
       "      <td>0</td>\n",
       "      <td>0</td>\n",
       "      <td>1</td>\n",
       "      <td>2</td>\n",
       "      <td>100</td>\n",
       "      <td>1213</td>\n",
       "      <td>0</td>\n",
       "    </tr>\n",
       "    <tr>\n",
       "      <th>1</th>\n",
       "      <td>1</td>\n",
       "      <td>15739548</td>\n",
       "      <td>0</td>\n",
       "      <td>22.67</td>\n",
       "      <td>7.00</td>\n",
       "      <td>2</td>\n",
       "      <td>8</td>\n",
       "      <td>4</td>\n",
       "      <td>0.165</td>\n",
       "      <td>0</td>\n",
       "      <td>0</td>\n",
       "      <td>0</td>\n",
       "      <td>0</td>\n",
       "      <td>2</td>\n",
       "      <td>160</td>\n",
       "      <td>1</td>\n",
       "      <td>0</td>\n",
       "    </tr>\n",
       "    <tr>\n",
       "      <th>2</th>\n",
       "      <td>2</td>\n",
       "      <td>15662854</td>\n",
       "      <td>0</td>\n",
       "      <td>29.58</td>\n",
       "      <td>1.75</td>\n",
       "      <td>1</td>\n",
       "      <td>4</td>\n",
       "      <td>4</td>\n",
       "      <td>1.250</td>\n",
       "      <td>0</td>\n",
       "      <td>0</td>\n",
       "      <td>0</td>\n",
       "      <td>1</td>\n",
       "      <td>2</td>\n",
       "      <td>280</td>\n",
       "      <td>1</td>\n",
       "      <td>0</td>\n",
       "    </tr>\n",
       "    <tr>\n",
       "      <th>3</th>\n",
       "      <td>3</td>\n",
       "      <td>15687688</td>\n",
       "      <td>0</td>\n",
       "      <td>21.67</td>\n",
       "      <td>11.50</td>\n",
       "      <td>1</td>\n",
       "      <td>5</td>\n",
       "      <td>3</td>\n",
       "      <td>0.000</td>\n",
       "      <td>1</td>\n",
       "      <td>1</td>\n",
       "      <td>11</td>\n",
       "      <td>1</td>\n",
       "      <td>2</td>\n",
       "      <td>0</td>\n",
       "      <td>1</td>\n",
       "      <td>1</td>\n",
       "    </tr>\n",
       "    <tr>\n",
       "      <th>4</th>\n",
       "      <td>4</td>\n",
       "      <td>15715750</td>\n",
       "      <td>1</td>\n",
       "      <td>20.17</td>\n",
       "      <td>8.17</td>\n",
       "      <td>2</td>\n",
       "      <td>6</td>\n",
       "      <td>4</td>\n",
       "      <td>1.960</td>\n",
       "      <td>1</td>\n",
       "      <td>1</td>\n",
       "      <td>14</td>\n",
       "      <td>0</td>\n",
       "      <td>2</td>\n",
       "      <td>60</td>\n",
       "      <td>159</td>\n",
       "      <td>1</td>\n",
       "    </tr>\n",
       "  </tbody>\n",
       "</table>\n",
       "</div>"
      ],
      "text/plain": [
       "   Unnamed: 0  Customer_ID  A_1    A_2    A_3  A_4  A_5  A_6    A_7  A_8  A_9  \\\n",
       "0           0     15776156    1  22.08  11.46    2    4    4  1.585    0    0   \n",
       "1           1     15739548    0  22.67   7.00    2    8    4  0.165    0    0   \n",
       "2           2     15662854    0  29.58   1.75    1    4    4  1.250    0    0   \n",
       "3           3     15687688    0  21.67  11.50    1    5    3  0.000    1    1   \n",
       "4           4     15715750    1  20.17   8.17    2    6    4  1.960    1    1   \n",
       "\n",
       "   A_10  A_11  A_12  A_13  A_14  class  \n",
       "0     0     1     2   100  1213      0  \n",
       "1     0     0     2   160     1      0  \n",
       "2     0     1     2   280     1      0  \n",
       "3    11     1     2     0     1      1  \n",
       "4    14     0     2    60   159      1  "
      ]
     },
     "execution_count": 9,
     "metadata": {},
     "output_type": "execute_result"
    }
   ],
   "source": [
    "df.head()"
   ]
  },
  {
   "cell_type": "code",
   "execution_count": 10,
   "id": "016ad9f2",
   "metadata": {
    "execution": {
     "iopub.execute_input": "2023-08-02T07:27:07.837786Z",
     "iopub.status.busy": "2023-08-02T07:27:07.836464Z",
     "iopub.status.idle": "2023-08-02T07:27:07.882443Z",
     "shell.execute_reply": "2023-08-02T07:27:07.881620Z"
    },
    "papermill": {
     "duration": 0.062964,
     "end_time": "2023-08-02T07:27:07.884960",
     "exception": false,
     "start_time": "2023-08-02T07:27:07.821996",
     "status": "completed"
    },
    "tags": []
   },
   "outputs": [
    {
     "name": "stdout",
     "output_type": "stream",
     "text": [
      "<class 'pandas.core.frame.DataFrame'>\n",
      "RangeIndex: 690 entries, 0 to 689\n",
      "Data columns (total 17 columns):\n",
      " #   Column       Non-Null Count  Dtype  \n",
      "---  ------       --------------  -----  \n",
      " 0   Unnamed: 0   690 non-null    int64  \n",
      " 1   Customer_ID  690 non-null    int64  \n",
      " 2   A_1          690 non-null    int64  \n",
      " 3   A_2          690 non-null    float64\n",
      " 4   A_3          690 non-null    float64\n",
      " 5   A_4          690 non-null    int64  \n",
      " 6   A_5          690 non-null    int64  \n",
      " 7   A_6          690 non-null    int64  \n",
      " 8   A_7          690 non-null    float64\n",
      " 9   A_8          690 non-null    int64  \n",
      " 10  A_9          690 non-null    int64  \n",
      " 11  A_10         690 non-null    int64  \n",
      " 12  A_11         690 non-null    int64  \n",
      " 13  A_12         690 non-null    int64  \n",
      " 14  A_13         690 non-null    int64  \n",
      " 15  A_14         690 non-null    int64  \n",
      " 16  class        690 non-null    int64  \n",
      "dtypes: float64(3), int64(14)\n",
      "memory usage: 91.8 KB\n"
     ]
    }
   ],
   "source": [
    "df.info()"
   ]
  },
  {
   "cell_type": "code",
   "execution_count": 11,
   "id": "27dc13bd",
   "metadata": {
    "execution": {
     "iopub.execute_input": "2023-08-02T07:27:07.914479Z",
     "iopub.status.busy": "2023-08-02T07:27:07.913185Z",
     "iopub.status.idle": "2023-08-02T07:27:07.921302Z",
     "shell.execute_reply": "2023-08-02T07:27:07.920089Z"
    },
    "papermill": {
     "duration": 0.02532,
     "end_time": "2023-08-02T07:27:07.923509",
     "exception": false,
     "start_time": "2023-08-02T07:27:07.898189",
     "status": "completed"
    },
    "tags": []
   },
   "outputs": [
    {
     "data": {
      "text/plain": [
       "(690, 17)"
      ]
     },
     "execution_count": 11,
     "metadata": {},
     "output_type": "execute_result"
    }
   ],
   "source": [
    "df.shape"
   ]
  },
  {
   "cell_type": "markdown",
   "id": "b925bebb",
   "metadata": {
    "papermill": {
     "duration": 0.013683,
     "end_time": "2023-08-02T07:27:07.994520",
     "exception": false,
     "start_time": "2023-08-02T07:27:07.980837",
     "status": "completed"
    },
    "tags": []
   },
   "source": [
    "THIS DATASET IS HIGHLY UNBALANCED"
   ]
  },
  {
   "cell_type": "markdown",
   "id": "0286152b",
   "metadata": {
    "papermill": {
     "duration": 0.013105,
     "end_time": "2023-08-02T07:27:08.021715",
     "exception": false,
     "start_time": "2023-08-02T07:27:08.008610",
     "status": "completed"
    },
    "tags": []
   },
   "source": [
    "   0 -> NORMAL TRANSACTION,\n",
    "   1 -> FRAUDULENT TRANSACTION"
   ]
  },
  {
   "cell_type": "markdown",
   "id": "8d48c049",
   "metadata": {
    "papermill": {
     "duration": 0.013054,
     "end_time": "2023-08-02T07:27:08.048235",
     "exception": false,
     "start_time": "2023-08-02T07:27:08.035181",
     "status": "completed"
    },
    "tags": []
   },
   "source": [
    "**SEPARATING DATA FOR ANALYSIS**"
   ]
  },
  {
   "cell_type": "code",
   "execution_count": null,
   "id": "d9ee8ba3",
   "metadata": {
    "execution": {
     "iopub.execute_input": "2023-08-02T07:27:08.077016Z",
     "iopub.status.busy": "2023-08-02T07:27:08.076565Z",
     "iopub.status.idle": "2023-08-02T07:27:08.135071Z",
     "shell.execute_reply": "2023-08-02T07:27:08.133834Z"
    },
    "papermill": {
     "duration": 0.076608,
     "end_time": "2023-08-02T07:27:08.138474",
     "exception": false,
     "start_time": "2023-08-02T07:27:08.061866",
     "status": "completed"
    },
    "tags": []
   },
   "outputs": [],
   "source": [
    "legit = df[df.Class == 0]\n",
    "fraud = df[df.Class == 1]"
   ]
  },
  {
   "cell_type": "markdown",
   "id": "840874e4",
   "metadata": {
    "papermill": {
     "duration": 0.013575,
     "end_time": "2023-08-02T07:27:08.165966",
     "exception": false,
     "start_time": "2023-08-02T07:27:08.152391",
     "status": "completed"
    },
    "tags": []
   },
   "source": [
    "**STATISTICAL MEASURE OF DATA**"
   ]
  },
  {
   "cell_type": "code",
   "execution_count": null,
   "id": "9623fb79",
   "metadata": {
    "execution": {
     "iopub.execute_input": "2023-08-02T07:27:08.196270Z",
     "iopub.status.busy": "2023-08-02T07:27:08.194865Z",
     "iopub.status.idle": "2023-08-02T07:27:08.221633Z",
     "shell.execute_reply": "2023-08-02T07:27:08.220367Z"
    },
    "papermill": {
     "duration": 0.044881,
     "end_time": "2023-08-02T07:27:08.224517",
     "exception": false,
     "start_time": "2023-08-02T07:27:08.179636",
     "status": "completed"
    },
    "tags": []
   },
   "outputs": [
    {
     "data": {
      "text/plain": [
       "count    284315.000000\n",
       "mean         88.291022\n",
       "std         250.105092\n",
       "min           0.000000\n",
       "25%           5.650000\n",
       "50%          22.000000\n",
       "75%          77.050000\n",
       "max       25691.160000\n",
       "Name: Amount, dtype: float64"
      ]
     },
     "execution_count": 9,
     "metadata": {},
     "output_type": "execute_result"
    }
   ],
   "source": [
    "legit.Amount.describe()"
   ]
  },
  {
   "cell_type": "code",
   "execution_count": null,
   "id": "8e201dce",
   "metadata": {
    "execution": {
     "iopub.execute_input": "2023-08-02T07:27:08.254326Z",
     "iopub.status.busy": "2023-08-02T07:27:08.253601Z",
     "iopub.status.idle": "2023-08-02T07:27:08.265184Z",
     "shell.execute_reply": "2023-08-02T07:27:08.263862Z"
    },
    "papermill": {
     "duration": 0.029601,
     "end_time": "2023-08-02T07:27:08.267982",
     "exception": false,
     "start_time": "2023-08-02T07:27:08.238381",
     "status": "completed"
    },
    "tags": []
   },
   "outputs": [
    {
     "data": {
      "text/plain": [
       "count     492.000000\n",
       "mean      122.211321\n",
       "std       256.683288\n",
       "min         0.000000\n",
       "25%         1.000000\n",
       "50%         9.250000\n",
       "75%       105.890000\n",
       "max      2125.870000\n",
       "Name: Amount, dtype: float64"
      ]
     },
     "execution_count": 10,
     "metadata": {},
     "output_type": "execute_result"
    }
   ],
   "source": [
    "fraud.Amount.describe()"
   ]
  },
  {
   "cell_type": "markdown",
   "id": "9c08cd84",
   "metadata": {
    "papermill": {
     "duration": 0.013709,
     "end_time": "2023-08-02T07:27:08.296000",
     "exception": false,
     "start_time": "2023-08-02T07:27:08.282291",
     "status": "completed"
    },
    "tags": []
   },
   "source": [
    "COMPARE THE VALUES FOR BOTH TRANSACTIONS"
   ]
  },
  {
   "cell_type": "code",
   "execution_count": null,
   "id": "33b7055d",
   "metadata": {
    "execution": {
     "iopub.execute_input": "2023-08-02T07:27:08.325962Z",
     "iopub.status.busy": "2023-08-02T07:27:08.325520Z",
     "iopub.status.idle": "2023-08-02T07:27:08.430237Z",
     "shell.execute_reply": "2023-08-02T07:27:08.428726Z"
    },
    "papermill": {
     "duration": 0.123251,
     "end_time": "2023-08-02T07:27:08.433497",
     "exception": false,
     "start_time": "2023-08-02T07:27:08.310246",
     "status": "completed"
    },
    "tags": []
   },
   "outputs": [
    {
     "data": {
      "text/html": [
       "<div>\n",
       "<style scoped>\n",
       "    .dataframe tbody tr th:only-of-type {\n",
       "        vertical-align: middle;\n",
       "    }\n",
       "\n",
       "    .dataframe tbody tr th {\n",
       "        vertical-align: top;\n",
       "    }\n",
       "\n",
       "    .dataframe thead th {\n",
       "        text-align: right;\n",
       "    }\n",
       "</style>\n",
       "<table border=\"1\" class=\"dataframe\">\n",
       "  <thead>\n",
       "    <tr style=\"text-align: right;\">\n",
       "      <th></th>\n",
       "      <th>Time</th>\n",
       "      <th>V1</th>\n",
       "      <th>V2</th>\n",
       "      <th>V3</th>\n",
       "      <th>V4</th>\n",
       "      <th>V5</th>\n",
       "      <th>V6</th>\n",
       "      <th>V7</th>\n",
       "      <th>V8</th>\n",
       "      <th>V9</th>\n",
       "      <th>...</th>\n",
       "      <th>V20</th>\n",
       "      <th>V21</th>\n",
       "      <th>V22</th>\n",
       "      <th>V23</th>\n",
       "      <th>V24</th>\n",
       "      <th>V25</th>\n",
       "      <th>V26</th>\n",
       "      <th>V27</th>\n",
       "      <th>V28</th>\n",
       "      <th>Amount</th>\n",
       "    </tr>\n",
       "    <tr>\n",
       "      <th>Class</th>\n",
       "      <th></th>\n",
       "      <th></th>\n",
       "      <th></th>\n",
       "      <th></th>\n",
       "      <th></th>\n",
       "      <th></th>\n",
       "      <th></th>\n",
       "      <th></th>\n",
       "      <th></th>\n",
       "      <th></th>\n",
       "      <th></th>\n",
       "      <th></th>\n",
       "      <th></th>\n",
       "      <th></th>\n",
       "      <th></th>\n",
       "      <th></th>\n",
       "      <th></th>\n",
       "      <th></th>\n",
       "      <th></th>\n",
       "      <th></th>\n",
       "      <th></th>\n",
       "    </tr>\n",
       "  </thead>\n",
       "  <tbody>\n",
       "    <tr>\n",
       "      <th>0</th>\n",
       "      <td>94838.202258</td>\n",
       "      <td>0.008258</td>\n",
       "      <td>-0.006271</td>\n",
       "      <td>0.012171</td>\n",
       "      <td>-0.007860</td>\n",
       "      <td>0.005453</td>\n",
       "      <td>0.002419</td>\n",
       "      <td>0.009637</td>\n",
       "      <td>-0.000987</td>\n",
       "      <td>0.004467</td>\n",
       "      <td>...</td>\n",
       "      <td>-0.000644</td>\n",
       "      <td>-0.001235</td>\n",
       "      <td>-0.000024</td>\n",
       "      <td>0.000070</td>\n",
       "      <td>0.000182</td>\n",
       "      <td>-0.000072</td>\n",
       "      <td>-0.000089</td>\n",
       "      <td>-0.000295</td>\n",
       "      <td>-0.000131</td>\n",
       "      <td>88.291022</td>\n",
       "    </tr>\n",
       "    <tr>\n",
       "      <th>1</th>\n",
       "      <td>80746.806911</td>\n",
       "      <td>-4.771948</td>\n",
       "      <td>3.623778</td>\n",
       "      <td>-7.033281</td>\n",
       "      <td>4.542029</td>\n",
       "      <td>-3.151225</td>\n",
       "      <td>-1.397737</td>\n",
       "      <td>-5.568731</td>\n",
       "      <td>0.570636</td>\n",
       "      <td>-2.581123</td>\n",
       "      <td>...</td>\n",
       "      <td>0.372319</td>\n",
       "      <td>0.713588</td>\n",
       "      <td>0.014049</td>\n",
       "      <td>-0.040308</td>\n",
       "      <td>-0.105130</td>\n",
       "      <td>0.041449</td>\n",
       "      <td>0.051648</td>\n",
       "      <td>0.170575</td>\n",
       "      <td>0.075667</td>\n",
       "      <td>122.211321</td>\n",
       "    </tr>\n",
       "  </tbody>\n",
       "</table>\n",
       "<p>2 rows × 30 columns</p>\n",
       "</div>"
      ],
      "text/plain": [
       "               Time        V1        V2        V3        V4        V5  \\\n",
       "Class                                                                   \n",
       "0      94838.202258  0.008258 -0.006271  0.012171 -0.007860  0.005453   \n",
       "1      80746.806911 -4.771948  3.623778 -7.033281  4.542029 -3.151225   \n",
       "\n",
       "             V6        V7        V8        V9  ...       V20       V21  \\\n",
       "Class                                          ...                       \n",
       "0      0.002419  0.009637 -0.000987  0.004467  ... -0.000644 -0.001235   \n",
       "1     -1.397737 -5.568731  0.570636 -2.581123  ...  0.372319  0.713588   \n",
       "\n",
       "            V22       V23       V24       V25       V26       V27       V28  \\\n",
       "Class                                                                         \n",
       "0     -0.000024  0.000070  0.000182 -0.000072 -0.000089 -0.000295 -0.000131   \n",
       "1      0.014049 -0.040308 -0.105130  0.041449  0.051648  0.170575  0.075667   \n",
       "\n",
       "           Amount  \n",
       "Class              \n",
       "0       88.291022  \n",
       "1      122.211321  \n",
       "\n",
       "[2 rows x 30 columns]"
      ]
     },
     "execution_count": 11,
     "metadata": {},
     "output_type": "execute_result"
    }
   ],
   "source": [
    "df.groupby(\"Class\").mean()"
   ]
  },
  {
   "cell_type": "markdown",
   "id": "a2934540",
   "metadata": {
    "papermill": {
     "duration": 0.014113,
     "end_time": "2023-08-02T07:27:08.462153",
     "exception": false,
     "start_time": "2023-08-02T07:27:08.448040",
     "status": "completed"
    },
    "tags": []
   },
   "source": [
    "**UNDER SAMPLING**"
   ]
  },
  {
   "cell_type": "markdown",
   "id": "367022b4",
   "metadata": {
    "papermill": {
     "duration": 0.013862,
     "end_time": "2023-08-02T07:27:08.490232",
     "exception": false,
     "start_time": "2023-08-02T07:27:08.476370",
     "status": "completed"
    },
    "tags": []
   },
   "source": [
    "BUILD A SAMPLE DATASET CONTAINING SIMILAR DISTRIBUTION OF NORMAL TRANSACTIONS AND FRAUDULENT TRANSACTIONS"
   ]
  },
  {
   "cell_type": "markdown",
   "id": "243a80e5",
   "metadata": {
    "papermill": {
     "duration": 0.017771,
     "end_time": "2023-08-02T07:27:08.522306",
     "exception": false,
     "start_time": "2023-08-02T07:27:08.504535",
     "status": "completed"
    },
    "tags": []
   },
   "source": [
    "NUMBER OF FRAUDULENT TRANSACTIONS -> 492"
   ]
  },
  {
   "cell_type": "code",
   "execution_count": null,
   "id": "83c810f6",
   "metadata": {
    "execution": {
     "iopub.execute_input": "2023-08-02T07:27:08.558312Z",
     "iopub.status.busy": "2023-08-02T07:27:08.557890Z",
     "iopub.status.idle": "2023-08-02T07:27:08.576842Z",
     "shell.execute_reply": "2023-08-02T07:27:08.575423Z"
    },
    "papermill": {
     "duration": 0.042156,
     "end_time": "2023-08-02T07:27:08.579987",
     "exception": false,
     "start_time": "2023-08-02T07:27:08.537831",
     "status": "completed"
    },
    "tags": []
   },
   "outputs": [],
   "source": [
    "legit_sample = legit.sample(n=492)"
   ]
  },
  {
   "cell_type": "markdown",
   "id": "169b9fa8",
   "metadata": {
    "papermill": {
     "duration": 0.016176,
     "end_time": "2023-08-02T07:27:08.617509",
     "exception": false,
     "start_time": "2023-08-02T07:27:08.601333",
     "status": "completed"
    },
    "tags": []
   },
   "source": [
    "**CONCATENATING TWO DATAFRAMES**"
   ]
  },
  {
   "cell_type": "code",
   "execution_count": null,
   "id": "489982c4",
   "metadata": {
    "execution": {
     "iopub.execute_input": "2023-08-02T07:27:08.648184Z",
     "iopub.status.busy": "2023-08-02T07:27:08.647762Z",
     "iopub.status.idle": "2023-08-02T07:27:08.655154Z",
     "shell.execute_reply": "2023-08-02T07:27:08.653872Z"
    },
    "papermill": {
     "duration": 0.026188,
     "end_time": "2023-08-02T07:27:08.657989",
     "exception": false,
     "start_time": "2023-08-02T07:27:08.631801",
     "status": "completed"
    },
    "tags": []
   },
   "outputs": [],
   "source": [
    "new_df = pd.concat([legit_sample , fraud], axis = 0)"
   ]
  },
  {
   "cell_type": "code",
   "execution_count": null,
   "id": "637132c4",
   "metadata": {
    "execution": {
     "iopub.execute_input": "2023-08-02T07:27:08.688954Z",
     "iopub.status.busy": "2023-08-02T07:27:08.688497Z",
     "iopub.status.idle": "2023-08-02T07:27:08.719431Z",
     "shell.execute_reply": "2023-08-02T07:27:08.718197Z"
    },
    "papermill": {
     "duration": 0.049383,
     "end_time": "2023-08-02T07:27:08.722120",
     "exception": false,
     "start_time": "2023-08-02T07:27:08.672737",
     "status": "completed"
    },
    "tags": []
   },
   "outputs": [
    {
     "data": {
      "text/html": [
       "<div>\n",
       "<style scoped>\n",
       "    .dataframe tbody tr th:only-of-type {\n",
       "        vertical-align: middle;\n",
       "    }\n",
       "\n",
       "    .dataframe tbody tr th {\n",
       "        vertical-align: top;\n",
       "    }\n",
       "\n",
       "    .dataframe thead th {\n",
       "        text-align: right;\n",
       "    }\n",
       "</style>\n",
       "<table border=\"1\" class=\"dataframe\">\n",
       "  <thead>\n",
       "    <tr style=\"text-align: right;\">\n",
       "      <th></th>\n",
       "      <th>Time</th>\n",
       "      <th>V1</th>\n",
       "      <th>V2</th>\n",
       "      <th>V3</th>\n",
       "      <th>V4</th>\n",
       "      <th>V5</th>\n",
       "      <th>V6</th>\n",
       "      <th>V7</th>\n",
       "      <th>V8</th>\n",
       "      <th>V9</th>\n",
       "      <th>...</th>\n",
       "      <th>V21</th>\n",
       "      <th>V22</th>\n",
       "      <th>V23</th>\n",
       "      <th>V24</th>\n",
       "      <th>V25</th>\n",
       "      <th>V26</th>\n",
       "      <th>V27</th>\n",
       "      <th>V28</th>\n",
       "      <th>Amount</th>\n",
       "      <th>Class</th>\n",
       "    </tr>\n",
       "  </thead>\n",
       "  <tbody>\n",
       "    <tr>\n",
       "      <th>5253</th>\n",
       "      <td>5087.0</td>\n",
       "      <td>0.989228</td>\n",
       "      <td>-0.593941</td>\n",
       "      <td>1.071029</td>\n",
       "      <td>0.194283</td>\n",
       "      <td>-0.824501</td>\n",
       "      <td>0.596833</td>\n",
       "      <td>-0.845974</td>\n",
       "      <td>0.237445</td>\n",
       "      <td>2.105335</td>\n",
       "      <td>...</td>\n",
       "      <td>-0.156802</td>\n",
       "      <td>-0.201216</td>\n",
       "      <td>-0.030602</td>\n",
       "      <td>-0.290607</td>\n",
       "      <td>0.002989</td>\n",
       "      <td>0.975035</td>\n",
       "      <td>-0.064079</td>\n",
       "      <td>0.008407</td>\n",
       "      <td>95.72</td>\n",
       "      <td>0</td>\n",
       "    </tr>\n",
       "    <tr>\n",
       "      <th>165292</th>\n",
       "      <td>117326.0</td>\n",
       "      <td>-0.200561</td>\n",
       "      <td>0.027684</td>\n",
       "      <td>-0.241402</td>\n",
       "      <td>-1.992654</td>\n",
       "      <td>2.460482</td>\n",
       "      <td>3.890078</td>\n",
       "      <td>-0.332155</td>\n",
       "      <td>1.127142</td>\n",
       "      <td>0.441805</td>\n",
       "      <td>...</td>\n",
       "      <td>0.309899</td>\n",
       "      <td>0.896232</td>\n",
       "      <td>0.014889</td>\n",
       "      <td>0.749680</td>\n",
       "      <td>-0.978877</td>\n",
       "      <td>0.337641</td>\n",
       "      <td>0.218154</td>\n",
       "      <td>0.228672</td>\n",
       "      <td>11.50</td>\n",
       "      <td>0</td>\n",
       "    </tr>\n",
       "    <tr>\n",
       "      <th>52940</th>\n",
       "      <td>45725.0</td>\n",
       "      <td>-0.671622</td>\n",
       "      <td>0.881131</td>\n",
       "      <td>1.608816</td>\n",
       "      <td>-0.383154</td>\n",
       "      <td>0.499870</td>\n",
       "      <td>-0.636383</td>\n",
       "      <td>0.699571</td>\n",
       "      <td>0.034465</td>\n",
       "      <td>-0.571393</td>\n",
       "      <td>...</td>\n",
       "      <td>-0.214499</td>\n",
       "      <td>-0.728547</td>\n",
       "      <td>-0.097145</td>\n",
       "      <td>0.023041</td>\n",
       "      <td>0.230822</td>\n",
       "      <td>0.047186</td>\n",
       "      <td>-0.061347</td>\n",
       "      <td>-0.016292</td>\n",
       "      <td>4.47</td>\n",
       "      <td>0</td>\n",
       "    </tr>\n",
       "    <tr>\n",
       "      <th>262352</th>\n",
       "      <td>160433.0</td>\n",
       "      <td>2.111519</td>\n",
       "      <td>-0.036044</td>\n",
       "      <td>-2.260689</td>\n",
       "      <td>0.089109</td>\n",
       "      <td>0.868772</td>\n",
       "      <td>-0.528819</td>\n",
       "      <td>0.472292</td>\n",
       "      <td>-0.215171</td>\n",
       "      <td>0.047921</td>\n",
       "      <td>...</td>\n",
       "      <td>0.110263</td>\n",
       "      <td>0.425802</td>\n",
       "      <td>-0.045916</td>\n",
       "      <td>0.280934</td>\n",
       "      <td>0.384318</td>\n",
       "      <td>0.696027</td>\n",
       "      <td>-0.124466</td>\n",
       "      <td>-0.095338</td>\n",
       "      <td>0.76</td>\n",
       "      <td>0</td>\n",
       "    </tr>\n",
       "    <tr>\n",
       "      <th>92946</th>\n",
       "      <td>64180.0</td>\n",
       "      <td>0.790185</td>\n",
       "      <td>-0.691863</td>\n",
       "      <td>0.999747</td>\n",
       "      <td>1.567220</td>\n",
       "      <td>-1.259973</td>\n",
       "      <td>-0.227572</td>\n",
       "      <td>-0.392125</td>\n",
       "      <td>0.093115</td>\n",
       "      <td>0.899874</td>\n",
       "      <td>...</td>\n",
       "      <td>0.225601</td>\n",
       "      <td>0.318288</td>\n",
       "      <td>-0.244231</td>\n",
       "      <td>0.368881</td>\n",
       "      <td>0.388970</td>\n",
       "      <td>-0.258061</td>\n",
       "      <td>0.022267</td>\n",
       "      <td>0.066770</td>\n",
       "      <td>200.00</td>\n",
       "      <td>0</td>\n",
       "    </tr>\n",
       "  </tbody>\n",
       "</table>\n",
       "<p>5 rows × 31 columns</p>\n",
       "</div>"
      ],
      "text/plain": [
       "            Time        V1        V2        V3        V4        V5        V6  \\\n",
       "5253      5087.0  0.989228 -0.593941  1.071029  0.194283 -0.824501  0.596833   \n",
       "165292  117326.0 -0.200561  0.027684 -0.241402 -1.992654  2.460482  3.890078   \n",
       "52940    45725.0 -0.671622  0.881131  1.608816 -0.383154  0.499870 -0.636383   \n",
       "262352  160433.0  2.111519 -0.036044 -2.260689  0.089109  0.868772 -0.528819   \n",
       "92946    64180.0  0.790185 -0.691863  0.999747  1.567220 -1.259973 -0.227572   \n",
       "\n",
       "              V7        V8        V9  ...       V21       V22       V23  \\\n",
       "5253   -0.845974  0.237445  2.105335  ... -0.156802 -0.201216 -0.030602   \n",
       "165292 -0.332155  1.127142  0.441805  ...  0.309899  0.896232  0.014889   \n",
       "52940   0.699571  0.034465 -0.571393  ... -0.214499 -0.728547 -0.097145   \n",
       "262352  0.472292 -0.215171  0.047921  ...  0.110263  0.425802 -0.045916   \n",
       "92946  -0.392125  0.093115  0.899874  ...  0.225601  0.318288 -0.244231   \n",
       "\n",
       "             V24       V25       V26       V27       V28  Amount  Class  \n",
       "5253   -0.290607  0.002989  0.975035 -0.064079  0.008407   95.72      0  \n",
       "165292  0.749680 -0.978877  0.337641  0.218154  0.228672   11.50      0  \n",
       "52940   0.023041  0.230822  0.047186 -0.061347 -0.016292    4.47      0  \n",
       "262352  0.280934  0.384318  0.696027 -0.124466 -0.095338    0.76      0  \n",
       "92946   0.368881  0.388970 -0.258061  0.022267  0.066770  200.00      0  \n",
       "\n",
       "[5 rows x 31 columns]"
      ]
     },
     "execution_count": 14,
     "metadata": {},
     "output_type": "execute_result"
    }
   ],
   "source": [
    "new_df.head()"
   ]
  },
  {
   "cell_type": "code",
   "execution_count": null,
   "id": "2a8d0fa3",
   "metadata": {
    "execution": {
     "iopub.execute_input": "2023-08-02T07:27:08.753938Z",
     "iopub.status.busy": "2023-08-02T07:27:08.753485Z",
     "iopub.status.idle": "2023-08-02T07:27:08.763493Z",
     "shell.execute_reply": "2023-08-02T07:27:08.762295Z"
    },
    "papermill": {
     "duration": 0.028809,
     "end_time": "2023-08-02T07:27:08.765914",
     "exception": false,
     "start_time": "2023-08-02T07:27:08.737105",
     "status": "completed"
    },
    "tags": []
   },
   "outputs": [
    {
     "data": {
      "text/plain": [
       "0    492\n",
       "1    492\n",
       "Name: Class, dtype: int64"
      ]
     },
     "execution_count": 15,
     "metadata": {},
     "output_type": "execute_result"
    }
   ],
   "source": [
    "new_df[\"Class\"].value_counts()"
   ]
  },
  {
   "cell_type": "code",
   "execution_count": null,
   "id": "e6311175",
   "metadata": {
    "execution": {
     "iopub.execute_input": "2023-08-02T07:27:08.798031Z",
     "iopub.status.busy": "2023-08-02T07:27:08.797639Z",
     "iopub.status.idle": "2023-08-02T07:27:08.826900Z",
     "shell.execute_reply": "2023-08-02T07:27:08.825956Z"
    },
    "papermill": {
     "duration": 0.048424,
     "end_time": "2023-08-02T07:27:08.829388",
     "exception": false,
     "start_time": "2023-08-02T07:27:08.780964",
     "status": "completed"
    },
    "tags": []
   },
   "outputs": [
    {
     "data": {
      "text/html": [
       "<div>\n",
       "<style scoped>\n",
       "    .dataframe tbody tr th:only-of-type {\n",
       "        vertical-align: middle;\n",
       "    }\n",
       "\n",
       "    .dataframe tbody tr th {\n",
       "        vertical-align: top;\n",
       "    }\n",
       "\n",
       "    .dataframe thead th {\n",
       "        text-align: right;\n",
       "    }\n",
       "</style>\n",
       "<table border=\"1\" class=\"dataframe\">\n",
       "  <thead>\n",
       "    <tr style=\"text-align: right;\">\n",
       "      <th></th>\n",
       "      <th>Time</th>\n",
       "      <th>V1</th>\n",
       "      <th>V2</th>\n",
       "      <th>V3</th>\n",
       "      <th>V4</th>\n",
       "      <th>V5</th>\n",
       "      <th>V6</th>\n",
       "      <th>V7</th>\n",
       "      <th>V8</th>\n",
       "      <th>V9</th>\n",
       "      <th>...</th>\n",
       "      <th>V20</th>\n",
       "      <th>V21</th>\n",
       "      <th>V22</th>\n",
       "      <th>V23</th>\n",
       "      <th>V24</th>\n",
       "      <th>V25</th>\n",
       "      <th>V26</th>\n",
       "      <th>V27</th>\n",
       "      <th>V28</th>\n",
       "      <th>Amount</th>\n",
       "    </tr>\n",
       "    <tr>\n",
       "      <th>Class</th>\n",
       "      <th></th>\n",
       "      <th></th>\n",
       "      <th></th>\n",
       "      <th></th>\n",
       "      <th></th>\n",
       "      <th></th>\n",
       "      <th></th>\n",
       "      <th></th>\n",
       "      <th></th>\n",
       "      <th></th>\n",
       "      <th></th>\n",
       "      <th></th>\n",
       "      <th></th>\n",
       "      <th></th>\n",
       "      <th></th>\n",
       "      <th></th>\n",
       "      <th></th>\n",
       "      <th></th>\n",
       "      <th></th>\n",
       "      <th></th>\n",
       "      <th></th>\n",
       "    </tr>\n",
       "  </thead>\n",
       "  <tbody>\n",
       "    <tr>\n",
       "      <th>0</th>\n",
       "      <td>94900.554878</td>\n",
       "      <td>0.020853</td>\n",
       "      <td>0.057981</td>\n",
       "      <td>0.023200</td>\n",
       "      <td>-0.010597</td>\n",
       "      <td>0.047686</td>\n",
       "      <td>0.048002</td>\n",
       "      <td>0.093713</td>\n",
       "      <td>0.060434</td>\n",
       "      <td>0.073293</td>\n",
       "      <td>...</td>\n",
       "      <td>-0.040427</td>\n",
       "      <td>0.005700</td>\n",
       "      <td>0.015350</td>\n",
       "      <td>0.027177</td>\n",
       "      <td>-0.034146</td>\n",
       "      <td>-0.036371</td>\n",
       "      <td>-0.015758</td>\n",
       "      <td>-0.014608</td>\n",
       "      <td>0.001680</td>\n",
       "      <td>82.566423</td>\n",
       "    </tr>\n",
       "    <tr>\n",
       "      <th>1</th>\n",
       "      <td>80746.806911</td>\n",
       "      <td>-4.771948</td>\n",
       "      <td>3.623778</td>\n",
       "      <td>-7.033281</td>\n",
       "      <td>4.542029</td>\n",
       "      <td>-3.151225</td>\n",
       "      <td>-1.397737</td>\n",
       "      <td>-5.568731</td>\n",
       "      <td>0.570636</td>\n",
       "      <td>-2.581123</td>\n",
       "      <td>...</td>\n",
       "      <td>0.372319</td>\n",
       "      <td>0.713588</td>\n",
       "      <td>0.014049</td>\n",
       "      <td>-0.040308</td>\n",
       "      <td>-0.105130</td>\n",
       "      <td>0.041449</td>\n",
       "      <td>0.051648</td>\n",
       "      <td>0.170575</td>\n",
       "      <td>0.075667</td>\n",
       "      <td>122.211321</td>\n",
       "    </tr>\n",
       "  </tbody>\n",
       "</table>\n",
       "<p>2 rows × 30 columns</p>\n",
       "</div>"
      ],
      "text/plain": [
       "               Time        V1        V2        V3        V4        V5  \\\n",
       "Class                                                                   \n",
       "0      94900.554878  0.020853  0.057981  0.023200 -0.010597  0.047686   \n",
       "1      80746.806911 -4.771948  3.623778 -7.033281  4.542029 -3.151225   \n",
       "\n",
       "             V6        V7        V8        V9  ...       V20       V21  \\\n",
       "Class                                          ...                       \n",
       "0      0.048002  0.093713  0.060434  0.073293  ... -0.040427  0.005700   \n",
       "1     -1.397737 -5.568731  0.570636 -2.581123  ...  0.372319  0.713588   \n",
       "\n",
       "            V22       V23       V24       V25       V26       V27       V28  \\\n",
       "Class                                                                         \n",
       "0      0.015350  0.027177 -0.034146 -0.036371 -0.015758 -0.014608  0.001680   \n",
       "1      0.014049 -0.040308 -0.105130  0.041449  0.051648  0.170575  0.075667   \n",
       "\n",
       "           Amount  \n",
       "Class              \n",
       "0       82.566423  \n",
       "1      122.211321  \n",
       "\n",
       "[2 rows x 30 columns]"
      ]
     },
     "execution_count": 16,
     "metadata": {},
     "output_type": "execute_result"
    }
   ],
   "source": [
    "new_df.groupby(\"Class\").mean()"
   ]
  },
  {
   "cell_type": "markdown",
   "id": "7468abe6",
   "metadata": {
    "papermill": {
     "duration": 0.014639,
     "end_time": "2023-08-02T07:27:08.859636",
     "exception": false,
     "start_time": "2023-08-02T07:27:08.844997",
     "status": "completed"
    },
    "tags": []
   },
   "source": [
    "**SPLITTING THE DATA INTO FEATURES AND TARGETS**"
   ]
  },
  {
   "cell_type": "code",
   "execution_count": null,
   "id": "ee293dc7",
   "metadata": {
    "execution": {
     "iopub.execute_input": "2023-08-02T07:27:08.891825Z",
     "iopub.status.busy": "2023-08-02T07:27:08.891129Z",
     "iopub.status.idle": "2023-08-02T07:27:08.897706Z",
     "shell.execute_reply": "2023-08-02T07:27:08.896363Z"
    },
    "papermill": {
     "duration": 0.025422,
     "end_time": "2023-08-02T07:27:08.900323",
     "exception": false,
     "start_time": "2023-08-02T07:27:08.874901",
     "status": "completed"
    },
    "tags": []
   },
   "outputs": [],
   "source": [
    "X = new_df.drop(columns = \"Class\", axis=1)\n",
    "Y = new_df[\"Class\"]"
   ]
  },
  {
   "cell_type": "code",
   "execution_count": null,
   "id": "ad74c243",
   "metadata": {
    "execution": {
     "iopub.execute_input": "2023-08-02T07:27:08.932913Z",
     "iopub.status.busy": "2023-08-02T07:27:08.932094Z",
     "iopub.status.idle": "2023-08-02T07:27:08.952444Z",
     "shell.execute_reply": "2023-08-02T07:27:08.951187Z"
    },
    "papermill": {
     "duration": 0.039582,
     "end_time": "2023-08-02T07:27:08.955249",
     "exception": false,
     "start_time": "2023-08-02T07:27:08.915667",
     "status": "completed"
    },
    "tags": []
   },
   "outputs": [
    {
     "name": "stdout",
     "output_type": "stream",
     "text": [
      "            Time        V1        V2        V3        V4        V5        V6  \\\n",
      "5253      5087.0  0.989228 -0.593941  1.071029  0.194283 -0.824501  0.596833   \n",
      "165292  117326.0 -0.200561  0.027684 -0.241402 -1.992654  2.460482  3.890078   \n",
      "52940    45725.0 -0.671622  0.881131  1.608816 -0.383154  0.499870 -0.636383   \n",
      "262352  160433.0  2.111519 -0.036044 -2.260689  0.089109  0.868772 -0.528819   \n",
      "92946    64180.0  0.790185 -0.691863  0.999747  1.567220 -1.259973 -0.227572   \n",
      "...          ...       ...       ...       ...       ...       ...       ...   \n",
      "279863  169142.0 -1.927883  1.125653 -4.518331  1.749293 -1.566487 -2.010494   \n",
      "280143  169347.0  1.378559  1.289381 -5.004247  1.411850  0.442581 -1.326536   \n",
      "280149  169351.0 -0.676143  1.126366 -2.213700  0.468308 -1.120541 -0.003346   \n",
      "281144  169966.0 -3.113832  0.585864 -5.399730  1.817092 -0.840618 -2.943548   \n",
      "281674  170348.0  1.991976  0.158476 -2.583441  0.408670  1.151147 -0.096695   \n",
      "\n",
      "              V7        V8        V9  ...       V20       V21       V22  \\\n",
      "5253   -0.845974  0.237445  2.105335  ...  0.068708 -0.156802 -0.201216   \n",
      "165292 -0.332155  1.127142  0.441805  ... -0.132168  0.309899  0.896232   \n",
      "52940   0.699571  0.034465 -0.571393  ... -0.065274 -0.214499 -0.728547   \n",
      "262352  0.472292 -0.215171  0.047921  ... -0.252173  0.110263  0.425802   \n",
      "92946  -0.392125  0.093115  0.899874  ...  0.174492  0.225601  0.318288   \n",
      "...          ...       ...       ...  ...       ...       ...       ...   \n",
      "279863 -0.882850  0.697211 -2.064945  ...  1.252967  0.778584 -0.319189   \n",
      "280143 -1.413170  0.248525 -1.127396  ...  0.226138  0.370612  0.028234   \n",
      "280149 -2.234739  1.210158 -0.652250  ...  0.247968  0.751826  0.834108   \n",
      "281144 -2.208002  1.058733 -1.632333  ...  0.306271  0.583276 -0.269209   \n",
      "281674  0.223050 -0.068384  0.577829  ... -0.017652 -0.164350 -0.295135   \n",
      "\n",
      "             V23       V24       V25       V26       V27       V28  Amount  \n",
      "5253   -0.030602 -0.290607  0.002989  0.975035 -0.064079  0.008407   95.72  \n",
      "165292  0.014889  0.749680 -0.978877  0.337641  0.218154  0.228672   11.50  \n",
      "52940  -0.097145  0.023041  0.230822  0.047186 -0.061347 -0.016292    4.47  \n",
      "262352 -0.045916  0.280934  0.384318  0.696027 -0.124466 -0.095338    0.76  \n",
      "92946  -0.244231  0.368881  0.388970 -0.258061  0.022267  0.066770  200.00  \n",
      "...          ...       ...       ...       ...       ...       ...     ...  \n",
      "279863  0.639419 -0.294885  0.537503  0.788395  0.292680  0.147968  390.00  \n",
      "280143 -0.145640 -0.081049  0.521875  0.739467  0.389152  0.186637    0.76  \n",
      "280149  0.190944  0.032070 -0.739695  0.471111  0.385107  0.194361   77.89  \n",
      "281144 -0.456108 -0.183659 -0.328168  0.606116  0.884876 -0.253700  245.00  \n",
      "281674 -0.072173 -0.450261  0.313267 -0.289617  0.002988 -0.015309   42.53  \n",
      "\n",
      "[984 rows x 30 columns]\n"
     ]
    }
   ],
   "source": [
    "print(X)"
   ]
  },
  {
   "cell_type": "code",
   "execution_count": null,
   "id": "7fc02ba0",
   "metadata": {
    "execution": {
     "iopub.execute_input": "2023-08-02T07:27:08.987470Z",
     "iopub.status.busy": "2023-08-02T07:27:08.987076Z",
     "iopub.status.idle": "2023-08-02T07:27:08.994245Z",
     "shell.execute_reply": "2023-08-02T07:27:08.993131Z"
    },
    "papermill": {
     "duration": 0.026282,
     "end_time": "2023-08-02T07:27:08.996839",
     "exception": false,
     "start_time": "2023-08-02T07:27:08.970557",
     "status": "completed"
    },
    "tags": []
   },
   "outputs": [
    {
     "name": "stdout",
     "output_type": "stream",
     "text": [
      "5253      0\n",
      "165292    0\n",
      "52940     0\n",
      "262352    0\n",
      "92946     0\n",
      "         ..\n",
      "279863    1\n",
      "280143    1\n",
      "280149    1\n",
      "281144    1\n",
      "281674    1\n",
      "Name: Class, Length: 984, dtype: int64\n"
     ]
    }
   ],
   "source": [
    "print(Y)"
   ]
  },
  {
   "cell_type": "markdown",
   "id": "ed6dfa93",
   "metadata": {
    "papermill": {
     "duration": 0.015431,
     "end_time": "2023-08-02T07:27:09.028322",
     "exception": false,
     "start_time": "2023-08-02T07:27:09.012891",
     "status": "completed"
    },
    "tags": []
   },
   "source": [
    "**SPLITTING DATA INTO TRAINING DATA AND TESTING DATA**"
   ]
  },
  {
   "cell_type": "code",
   "execution_count": null,
   "id": "adcca5d7",
   "metadata": {
    "execution": {
     "iopub.execute_input": "2023-08-02T07:27:09.061396Z",
     "iopub.status.busy": "2023-08-02T07:27:09.060988Z",
     "iopub.status.idle": "2023-08-02T07:27:09.072669Z",
     "shell.execute_reply": "2023-08-02T07:27:09.070931Z"
    },
    "papermill": {
     "duration": 0.031137,
     "end_time": "2023-08-02T07:27:09.075578",
     "exception": false,
     "start_time": "2023-08-02T07:27:09.044441",
     "status": "completed"
    },
    "tags": []
   },
   "outputs": [],
   "source": [
    "X_train, X_test, Y_train, Y_test = train_test_split(X, Y, test_size = 0.2, stratify = Y, random_state = 2)"
   ]
  },
  {
   "cell_type": "code",
   "execution_count": null,
   "id": "01616d1e",
   "metadata": {
    "execution": {
     "iopub.execute_input": "2023-08-02T07:27:09.108396Z",
     "iopub.status.busy": "2023-08-02T07:27:09.107986Z",
     "iopub.status.idle": "2023-08-02T07:27:09.114277Z",
     "shell.execute_reply": "2023-08-02T07:27:09.113013Z"
    },
    "papermill": {
     "duration": 0.025935,
     "end_time": "2023-08-02T07:27:09.117252",
     "exception": false,
     "start_time": "2023-08-02T07:27:09.091317",
     "status": "completed"
    },
    "tags": []
   },
   "outputs": [
    {
     "name": "stdout",
     "output_type": "stream",
     "text": [
      "(984, 30) (787, 30) (197, 30)\n"
     ]
    }
   ],
   "source": [
    "print(X.shape, X_train.shape, X_test.shape)"
   ]
  },
  {
   "cell_type": "markdown",
   "id": "7571b802",
   "metadata": {
    "papermill": {
     "duration": 0.015127,
     "end_time": "2023-08-02T07:27:09.148221",
     "exception": false,
     "start_time": "2023-08-02T07:27:09.133094",
     "status": "completed"
    },
    "tags": []
   },
   "source": [
    "**MODEL TRAINING**"
   ]
  },
  {
   "cell_type": "markdown",
   "id": "bb85a537",
   "metadata": {
    "papermill": {
     "duration": 0.01577,
     "end_time": "2023-08-02T07:27:09.179784",
     "exception": false,
     "start_time": "2023-08-02T07:27:09.164014",
     "status": "completed"
    },
    "tags": []
   },
   "source": [
    "LOGISTIC REGRESSION"
   ]
  },
  {
   "cell_type": "code",
   "execution_count": null,
   "id": "3647da83",
   "metadata": {
    "execution": {
     "iopub.execute_input": "2023-08-02T07:27:09.214212Z",
     "iopub.status.busy": "2023-08-02T07:27:09.213806Z",
     "iopub.status.idle": "2023-08-02T07:27:09.219280Z",
     "shell.execute_reply": "2023-08-02T07:27:09.217954Z"
    },
    "papermill": {
     "duration": 0.025248,
     "end_time": "2023-08-02T07:27:09.222004",
     "exception": false,
     "start_time": "2023-08-02T07:27:09.196756",
     "status": "completed"
    },
    "tags": []
   },
   "outputs": [],
   "source": [
    "model = LogisticRegression()"
   ]
  },
  {
   "cell_type": "markdown",
   "id": "e3f9b0ed",
   "metadata": {
    "papermill": {
     "duration": 0.015594,
     "end_time": "2023-08-02T07:27:09.253080",
     "exception": false,
     "start_time": "2023-08-02T07:27:09.237486",
     "status": "completed"
    },
    "tags": []
   },
   "source": [
    "TRAINING THE LOGISTIC REGRESSION MODEL WITH TRAINING DATA"
   ]
  },
  {
   "cell_type": "code",
   "execution_count": null,
   "id": "1805f8c2",
   "metadata": {
    "execution": {
     "iopub.execute_input": "2023-08-02T07:27:09.285918Z",
     "iopub.status.busy": "2023-08-02T07:27:09.285444Z",
     "iopub.status.idle": "2023-08-02T07:27:09.360703Z",
     "shell.execute_reply": "2023-08-02T07:27:09.358923Z"
    },
    "papermill": {
     "duration": 0.096421,
     "end_time": "2023-08-02T07:27:09.365049",
     "exception": false,
     "start_time": "2023-08-02T07:27:09.268628",
     "status": "completed"
    },
    "tags": []
   },
   "outputs": [
    {
     "data": {
      "text/html": [
       "<style>#sk-container-id-1 {color: black;background-color: white;}#sk-container-id-1 pre{padding: 0;}#sk-container-id-1 div.sk-toggleable {background-color: white;}#sk-container-id-1 label.sk-toggleable__label {cursor: pointer;display: block;width: 100%;margin-bottom: 0;padding: 0.3em;box-sizing: border-box;text-align: center;}#sk-container-id-1 label.sk-toggleable__label-arrow:before {content: \"▸\";float: left;margin-right: 0.25em;color: #696969;}#sk-container-id-1 label.sk-toggleable__label-arrow:hover:before {color: black;}#sk-container-id-1 div.sk-estimator:hover label.sk-toggleable__label-arrow:before {color: black;}#sk-container-id-1 div.sk-toggleable__content {max-height: 0;max-width: 0;overflow: hidden;text-align: left;background-color: #f0f8ff;}#sk-container-id-1 div.sk-toggleable__content pre {margin: 0.2em;color: black;border-radius: 0.25em;background-color: #f0f8ff;}#sk-container-id-1 input.sk-toggleable__control:checked~div.sk-toggleable__content {max-height: 200px;max-width: 100%;overflow: auto;}#sk-container-id-1 input.sk-toggleable__control:checked~label.sk-toggleable__label-arrow:before {content: \"▾\";}#sk-container-id-1 div.sk-estimator input.sk-toggleable__control:checked~label.sk-toggleable__label {background-color: #d4ebff;}#sk-container-id-1 div.sk-label input.sk-toggleable__control:checked~label.sk-toggleable__label {background-color: #d4ebff;}#sk-container-id-1 input.sk-hidden--visually {border: 0;clip: rect(1px 1px 1px 1px);clip: rect(1px, 1px, 1px, 1px);height: 1px;margin: -1px;overflow: hidden;padding: 0;position: absolute;width: 1px;}#sk-container-id-1 div.sk-estimator {font-family: monospace;background-color: #f0f8ff;border: 1px dotted black;border-radius: 0.25em;box-sizing: border-box;margin-bottom: 0.5em;}#sk-container-id-1 div.sk-estimator:hover {background-color: #d4ebff;}#sk-container-id-1 div.sk-parallel-item::after {content: \"\";width: 100%;border-bottom: 1px solid gray;flex-grow: 1;}#sk-container-id-1 div.sk-label:hover label.sk-toggleable__label {background-color: #d4ebff;}#sk-container-id-1 div.sk-serial::before {content: \"\";position: absolute;border-left: 1px solid gray;box-sizing: border-box;top: 0;bottom: 0;left: 50%;z-index: 0;}#sk-container-id-1 div.sk-serial {display: flex;flex-direction: column;align-items: center;background-color: white;padding-right: 0.2em;padding-left: 0.2em;position: relative;}#sk-container-id-1 div.sk-item {position: relative;z-index: 1;}#sk-container-id-1 div.sk-parallel {display: flex;align-items: stretch;justify-content: center;background-color: white;position: relative;}#sk-container-id-1 div.sk-item::before, #sk-container-id-1 div.sk-parallel-item::before {content: \"\";position: absolute;border-left: 1px solid gray;box-sizing: border-box;top: 0;bottom: 0;left: 50%;z-index: -1;}#sk-container-id-1 div.sk-parallel-item {display: flex;flex-direction: column;z-index: 1;position: relative;background-color: white;}#sk-container-id-1 div.sk-parallel-item:first-child::after {align-self: flex-end;width: 50%;}#sk-container-id-1 div.sk-parallel-item:last-child::after {align-self: flex-start;width: 50%;}#sk-container-id-1 div.sk-parallel-item:only-child::after {width: 0;}#sk-container-id-1 div.sk-dashed-wrapped {border: 1px dashed gray;margin: 0 0.4em 0.5em 0.4em;box-sizing: border-box;padding-bottom: 0.4em;background-color: white;}#sk-container-id-1 div.sk-label label {font-family: monospace;font-weight: bold;display: inline-block;line-height: 1.2em;}#sk-container-id-1 div.sk-label-container {text-align: center;}#sk-container-id-1 div.sk-container {/* jupyter's `normalize.less` sets `[hidden] { display: none; }` but bootstrap.min.css set `[hidden] { display: none !important; }` so we also need the `!important` here to be able to override the default hidden behavior on the sphinx rendered scikit-learn.org. See: https://github.com/scikit-learn/scikit-learn/issues/21755 */display: inline-block !important;position: relative;}#sk-container-id-1 div.sk-text-repr-fallback {display: none;}</style><div id=\"sk-container-id-1\" class=\"sk-top-container\"><div class=\"sk-text-repr-fallback\"><pre>LogisticRegression()</pre><b>In a Jupyter environment, please rerun this cell to show the HTML representation or trust the notebook. <br />On GitHub, the HTML representation is unable to render, please try loading this page with nbviewer.org.</b></div><div class=\"sk-container\" hidden><div class=\"sk-item\"><div class=\"sk-estimator sk-toggleable\"><input class=\"sk-toggleable__control sk-hidden--visually\" id=\"sk-estimator-id-1\" type=\"checkbox\" checked><label for=\"sk-estimator-id-1\" class=\"sk-toggleable__label sk-toggleable__label-arrow\">LogisticRegression</label><div class=\"sk-toggleable__content\"><pre>LogisticRegression()</pre></div></div></div></div></div>"
      ],
      "text/plain": [
       "LogisticRegression()"
      ]
     },
     "execution_count": 23,
     "metadata": {},
     "output_type": "execute_result"
    }
   ],
   "source": [
    "model.fit(X_train, Y_train)"
   ]
  },
  {
   "cell_type": "markdown",
   "id": "1e09e9f9",
   "metadata": {
    "papermill": {
     "duration": 0.034905,
     "end_time": "2023-08-02T07:27:09.433696",
     "exception": false,
     "start_time": "2023-08-02T07:27:09.398791",
     "status": "completed"
    },
    "tags": []
   },
   "source": [
    "**MODEL EVALUAION**"
   ]
  },
  {
   "cell_type": "markdown",
   "id": "e0020e7d",
   "metadata": {
    "papermill": {
     "duration": 0.015315,
     "end_time": "2023-08-02T07:27:09.480162",
     "exception": false,
     "start_time": "2023-08-02T07:27:09.464847",
     "status": "completed"
    },
    "tags": []
   },
   "source": [
    "ACCURACY SCORE"
   ]
  },
  {
   "cell_type": "markdown",
   "id": "a847ce43",
   "metadata": {
    "papermill": {
     "duration": 0.015696,
     "end_time": "2023-08-02T07:27:09.511532",
     "exception": false,
     "start_time": "2023-08-02T07:27:09.495836",
     "status": "completed"
    },
    "tags": []
   },
   "source": [
    "ACCURACY ON TRAINING DATA"
   ]
  },
  {
   "cell_type": "code",
   "execution_count": null,
   "id": "b0bd3a1b",
   "metadata": {
    "execution": {
     "iopub.execute_input": "2023-08-02T07:27:09.548091Z",
     "iopub.status.busy": "2023-08-02T07:27:09.547045Z",
     "iopub.status.idle": "2023-08-02T07:27:09.558716Z",
     "shell.execute_reply": "2023-08-02T07:27:09.557055Z"
    },
    "papermill": {
     "duration": 0.033526,
     "end_time": "2023-08-02T07:27:09.562888",
     "exception": false,
     "start_time": "2023-08-02T07:27:09.529362",
     "status": "completed"
    },
    "tags": []
   },
   "outputs": [],
   "source": [
    "X_train_predict = model.predict(X_train)\n",
    "training_data_accuracy = accuracy_score(X_train_predict, Y_train)"
   ]
  },
  {
   "cell_type": "code",
   "execution_count": null,
   "id": "b8e49d4f",
   "metadata": {
    "execution": {
     "iopub.execute_input": "2023-08-02T07:27:09.633473Z",
     "iopub.status.busy": "2023-08-02T07:27:09.632653Z",
     "iopub.status.idle": "2023-08-02T07:27:09.640652Z",
     "shell.execute_reply": "2023-08-02T07:27:09.639537Z"
    },
    "papermill": {
     "duration": 0.048411,
     "end_time": "2023-08-02T07:27:09.644727",
     "exception": false,
     "start_time": "2023-08-02T07:27:09.596316",
     "status": "completed"
    },
    "tags": []
   },
   "outputs": [
    {
     "name": "stdout",
     "output_type": "stream",
     "text": [
      "ACCURACY ON TRAINING DATA: 0.9453621346886912\n"
     ]
    }
   ],
   "source": [
    "print(\"ACCURACY ON TRAINING DATA:\", training_data_accuracy)"
   ]
  },
  {
   "cell_type": "markdown",
   "id": "9fd5cc90",
   "metadata": {
    "papermill": {
     "duration": 0.0161,
     "end_time": "2023-08-02T07:27:09.692859",
     "exception": false,
     "start_time": "2023-08-02T07:27:09.676759",
     "status": "completed"
    },
    "tags": []
   },
   "source": [
    "ACCURACY ON TESTING DATA"
   ]
  },
  {
   "cell_type": "code",
   "execution_count": null,
   "id": "74d768fa",
   "metadata": {
    "execution": {
     "iopub.execute_input": "2023-08-02T07:27:09.726245Z",
     "iopub.status.busy": "2023-08-02T07:27:09.725823Z",
     "iopub.status.idle": "2023-08-02T07:27:09.734305Z",
     "shell.execute_reply": "2023-08-02T07:27:09.733349Z"
    },
    "papermill": {
     "duration": 0.027951,
     "end_time": "2023-08-02T07:27:09.736629",
     "exception": false,
     "start_time": "2023-08-02T07:27:09.708678",
     "status": "completed"
    },
    "tags": []
   },
   "outputs": [],
   "source": [
    "X_test_predict = model.predict(X_test)\n",
    "testing_data_accuracy = accuracy_score(X_test_predict, Y_test)"
   ]
  },
  {
   "cell_type": "code",
   "execution_count": null,
   "id": "7c2fb7df",
   "metadata": {
    "execution": {
     "iopub.execute_input": "2023-08-02T07:27:09.771617Z",
     "iopub.status.busy": "2023-08-02T07:27:09.770848Z",
     "iopub.status.idle": "2023-08-02T07:27:09.776246Z",
     "shell.execute_reply": "2023-08-02T07:27:09.775054Z"
    },
    "papermill": {
     "duration": 0.025055,
     "end_time": "2023-08-02T07:27:09.778460",
     "exception": false,
     "start_time": "2023-08-02T07:27:09.753405",
     "status": "completed"
    },
    "tags": []
   },
   "outputs": [
    {
     "name": "stdout",
     "output_type": "stream",
     "text": [
      "ACCURACY ON TESTING DATA: 0.9289340101522843\n"
     ]
    }
   ],
   "source": [
    "print(\"ACCURACY ON TESTING DATA:\", testing_data_accuracy)"
   ]
  }
 ],
 "metadata": {
  "kernelspec": {
   "display_name": "Python 3",
   "language": "python",
   "name": "python3"
  },
  "language_info": {
   "codemirror_mode": {
    "name": "ipython",
    "version": 3
   },
   "file_extension": ".py",
   "mimetype": "text/x-python",
   "name": "python",
   "nbconvert_exporter": "python",
   "pygments_lexer": "ipython3",
   "version": "3.11.6"
  },
  "papermill": {
   "default_parameters": {},
   "duration": 21.933949,
   "end_time": "2023-08-02T07:27:10.818043",
   "environment_variables": {},
   "exception": null,
   "input_path": "__notebook__.ipynb",
   "output_path": "__notebook__.ipynb",
   "parameters": {},
   "start_time": "2023-08-02T07:26:48.884094",
   "version": "2.4.0"
  }
 },
 "nbformat": 4,
 "nbformat_minor": 5
}
